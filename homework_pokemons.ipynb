{
 "cells": [
  {
   "cell_type": "markdown",
   "id": "e9edf86d",
   "metadata": {},
   "source": [
    "# Homework\n",
    "\n",
    "Dataset: https://www.kaggle.com/rounakbanik/pokemon\n",
    "\n",
    "Here you can find a dataset and its description.\n",
    "\n",
    "#### Your goal is create a command-line game, something like Pokemon Battles. \n",
    "\n",
    "*Requirements*:\n",
    "- Use OOP.\n",
    "- Extract data from the dataset and initialize charachters instances.\n",
    "- Provide a logic of characters interaction and corresponding methods.\n",
    "- Save battles statistic.\n",
    "\n",
    "*Basic logic of a fight*: \n",
    "\n",
    "The pokemot wins if his sum of fields __attack__, __defense__, __sp_attack__, __sp_defence__ higher then his rival's ones. \n",
    "\n",
    "P.S. Improve it as much as you can!"
   ]
  },
  {
   "cell_type": "code",
   "execution_count": null,
   "id": "a4f245f1",
   "metadata": {},
   "outputs": [],
   "source": []
  }
 ],
 "metadata": {
  "kernelspec": {
   "display_name": "Python 3 (ipykernel)",
   "language": "python",
   "name": "python3"
  },
  "language_info": {
   "codemirror_mode": {
    "name": "ipython",
    "version": 3
   },
   "file_extension": ".py",
   "mimetype": "text/x-python",
   "name": "python",
   "nbconvert_exporter": "python",
   "pygments_lexer": "ipython3",
   "version": "3.9.7"
  }
 },
 "nbformat": 4,
 "nbformat_minor": 5
}
