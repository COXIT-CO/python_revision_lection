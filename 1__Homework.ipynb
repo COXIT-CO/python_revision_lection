{
 "cells": [
  {
   "cell_type": "markdown",
   "id": "763505d8-f04f-4643-a913-053fa9c58583",
   "metadata": {},
   "source": [
    "# __Homework__"
   ]
  },
  {
   "cell_type": "markdown",
   "id": "0eb29863-9673-40e0-a3b8-61bb69b44c6f",
   "metadata": {},
   "source": [
    "## Lists\n",
    "1. Write a Python program to check if first digit/character of each element in a given list is same or not\\\n",
    "[1234, 122, 1984, 19372, 100] -> True\\\n",
    "['aabc', 'abc', 'ab', 'ha'] -> False\n",
    "\n",
    "2. Write a Python program to sort one list based on another list containing the desired indexes"
   ]
  },
  {
   "cell_type": "code",
   "execution_count": null,
   "id": "ccb6afce-8a70-41d0-87c0-869bfc88ed80",
   "metadata": {},
   "outputs": [],
   "source": []
  },
  {
   "cell_type": "code",
   "execution_count": null,
   "id": "884bf1ca-27cc-4e2f-adf6-8613136dbbf5",
   "metadata": {},
   "outputs": [],
   "source": []
  },
  {
   "cell_type": "markdown",
   "id": "790bc2cf-1cf0-4b0b-8e9d-55c1ae36779a",
   "metadata": {},
   "source": [
    "## Dicts\n",
    "1. Write a Python program to find the key of the maximum value in a dictionary\n",
    "        Sample Output:\n",
    "            Original dictionary elements:\n",
    "                {'Theodore': 19, 'Roxanne': 22, 'Mathew': 21, 'Betty': 20}\n",
    "            Finds the key of the maximum and minimum value of the said dictionary:\n",
    "                ('Roxanne', 'Theodore')\n",
    "2. Write a Python program to get the total length of all values of a given dictionary with string values\n",
    "        Original dictionary:\n",
    "            {'#FF0000': 'Red', '#800000': 'Maroon', '#FFFF00': 'Yellow', '#808000': 'Olive'}\n",
    "        Total length of all values of the said dictionary with string values:\n",
    "            20"
   ]
  },
  {
   "cell_type": "code",
   "execution_count": null,
   "id": "c7bc4a69-eeb5-4e06-8bb5-1257009562a4",
   "metadata": {},
   "outputs": [],
   "source": []
  },
  {
   "cell_type": "code",
   "execution_count": null,
   "id": "f68d30d0-f789-4be1-9729-65649fe5e3e5",
   "metadata": {},
   "outputs": [],
   "source": []
  },
  {
   "cell_type": "markdown",
   "id": "17f56a01-2e08-44ff-87bb-01a0ef27e731",
   "metadata": {},
   "source": [
    "## Sets\n",
    "1. Write code to remove the intersection of a 2nd set from the 1st set\n",
    "2. Write code to find the elements in a given set that are not in another set\n",
    "3. Write code to check if two given sets have no elements in common"
   ]
  },
  {
   "cell_type": "code",
   "execution_count": null,
   "id": "cc6a9d6e-aa15-444a-a13a-e614e0bd58ab",
   "metadata": {},
   "outputs": [],
   "source": []
  },
  {
   "cell_type": "code",
   "execution_count": null,
   "id": "cd9d7d2f-1bb3-461c-bc0a-970a8b594b28",
   "metadata": {},
   "outputs": [],
   "source": []
  },
  {
   "cell_type": "code",
   "execution_count": null,
   "id": "0ace9edc-b585-4cb7-a017-2d06f4370790",
   "metadata": {},
   "outputs": [],
   "source": []
  },
  {
   "cell_type": "markdown",
   "id": "09abacb6-a806-46b5-b52f-150ff6061c1b",
   "metadata": {},
   "source": [
    "## Functions\n",
    "1. Write a Python function that prints out the first n rows of Pascal's triangle.\n",
    "\n",
    "![Alt text](https://www.w3resource.com/w3r_images/pascal-traingle.png)\n",
    "\n",
    "2. Write a Python program to detect the number of local variables declared in a function\n"
   ]
  },
  {
   "cell_type": "code",
   "execution_count": null,
   "id": "a7738e90-dabc-49e1-925c-3e8da80f6372",
   "metadata": {},
   "outputs": [],
   "source": []
  },
  {
   "cell_type": "code",
   "execution_count": null,
   "id": "d5a7d211-517f-45ea-9321-e53db7cd27d6",
   "metadata": {},
   "outputs": [],
   "source": []
  },
  {
   "cell_type": "markdown",
   "id": "52494be5-f922-4207-87a9-d603d509fc50",
   "metadata": {},
   "source": []
  }
 ],
 "metadata": {
  "kernelspec": {
   "display_name": "Python 3 (ipykernel)",
   "language": "python",
   "name": "python3"
  },
  "language_info": {
   "codemirror_mode": {
    "name": "ipython",
    "version": 3
   },
   "file_extension": ".py",
   "mimetype": "text/x-python",
   "name": "python",
   "nbconvert_exporter": "python",
   "pygments_lexer": "ipython3",
   "version": "3.9.7"
  }
 },
 "nbformat": 4,
 "nbformat_minor": 5
}
