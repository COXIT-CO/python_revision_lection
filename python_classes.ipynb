{
 "cells": [
  {
   "cell_type": "markdown",
   "id": "fe0914f4-8132-45f0-8f68-42aebebd66e3",
   "metadata": {},
   "source": [
    "# The Class Structure in Python\n",
    "\n",
    "## What is a Class?\n",
    "\n",
    "A class is a structure in Python that can be used as a blueprint to create objects that have \n",
    "1. prototyped features, \"attributes\" that are variable\n",
    "2. \"methods\" which are functions that can be applied to the object that is created, or rather, an instance of that class. "
   ]
  },
  {
   "cell_type": "markdown",
   "id": "9e8427de-a92b-432b-aa72-f5b0a31c866d",
   "metadata": {},
   "source": [
    "## Defining a Class\n",
    "\n",
    "We want to define a class called *Client* in which a new instance stores a client's name, balance, and account level.\n",
    "It will take the format of:\n",
    "    \n",
    "    class Client(object):\n",
    "        def __init__(self, args[, ...])\n",
    "            #more code\n",
    "            \n",
    "\"def `__init__`\" is what we use when creating classes to define how we can create a new instance of this class. \n",
    "\n",
    "The arguments of `__init__` are required input when creating a new instance of this class, except for 'self'. "
   ]
  },
  {
   "cell_type": "code",
   "execution_count": null,
   "id": "45e400f4-dd13-4527-a8f6-96481d3a20af",
   "metadata": {},
   "outputs": [],
   "source": [
    "# create the Client class below\n",
    "class Client(object):\n",
    "    def __init__(self, name, balance):\n",
    "        self.name = name\n",
    "        self.balance = balance + 100\n",
    "        \n",
    "        #define account level\n",
    "        if self.balance < 5000:\n",
    "            self.level = \"Basic\"\n",
    "        elif self.balance < 15000:\n",
    "            self.level = \"Intermediate\"\n",
    "        else:\n",
    "            self.level = \"Advanced\"\n",
    "            \n",
    "            "
   ]
  },
  {
   "cell_type": "markdown",
   "id": "dd398e3a-4472-41e7-be9e-99972acb748b",
   "metadata": {},
   "source": [
    "The **attributes** in *Client* are *name, balance* and *level*. \n",
    "\n",
    "**Note**: \"self.name\" and \"name\" are different variables. Here they represent the same values, but in other cases, this may lead to problems. For example, here the bank has decided to update \"self.balance\" by giving all new members a bonus $100 on top of what they're putting in the bank. Calling \"balance\" for other calculations will not have the correct value."
   ]
  },
  {
   "cell_type": "markdown",
   "id": "ed2529c5-8cf1-4c8e-bd83-fe21a2ce9bec",
   "metadata": {},
   "source": [
    "### Creating an Instance of a Class\n",
    "\n",
    "Now, lets try creating some new clients named John_Doe, and Jane_Defoe:"
   ]
  },
  {
   "cell_type": "code",
   "execution_count": null,
   "id": "077ac056-b869-451d-a83c-9124bbb9787f",
   "metadata": {
    "collapsed": false,
    "jupyter": {
     "outputs_hidden": false
    }
   },
   "outputs": [],
   "source": [
    "John_Doe = Client(\"John Doe\", 500)\n",
    "Jane_Defoe = Client(\"Jane Defoe\", 150000)"
   ]
  },
  {
   "cell_type": "markdown",
   "id": "8996d504-39aa-4388-a262-544559abc40f",
   "metadata": {},
   "source": [
    "We can see the attributes of John_Doe, or Jane_Defoe by calling them:"
   ]
  },
  {
   "cell_type": "code",
   "execution_count": null,
   "id": "b0ae0482-0c83-42d3-98a7-86e14d4ed2e2",
   "metadata": {
    "collapsed": false,
    "jupyter": {
     "outputs_hidden": false
    }
   },
   "outputs": [],
   "source": [
    "John_Doe.name\n",
    "Jane_Defoe.level\n",
    "Jane_Defoe.balance"
   ]
  },
  {
   "cell_type": "markdown",
   "id": "53140c49-f767-49ca-a310-38527280ddb2",
   "metadata": {},
   "source": [
    "We can also add, remove or modify attributes as we like:"
   ]
  },
  {
   "cell_type": "code",
   "execution_count": null,
   "id": "d4bd6a45-8d76-44ab-ab19-4a22d4e22b18",
   "metadata": {},
   "outputs": [],
   "source": [
    "John_Doe.email = \"jdoe23@gmail.com\"\n",
    "John_Doe.email = \"johndoe23@gmail.com\"\n",
    "del John_Doe.email"
   ]
  },
  {
   "cell_type": "code",
   "execution_count": null,
   "id": "3291b891-e61d-4d3c-a389-c22213c345ea",
   "metadata": {
    "collapsed": false,
    "jupyter": {
     "outputs_hidden": false
    }
   },
   "outputs": [],
   "source": [
    "getattr(John_Doe, 'name')\n",
    "setattr(John_Doe, 'email', 'jdoe23@gmail.com')\n",
    "John_Doe.email"
   ]
  },
  {
   "cell_type": "markdown",
   "id": "c86e1445-fff8-4939-b328-2052ea0dd07e",
   "metadata": {},
   "source": [
    "You can also use the following instead instead of the normal statements:\n",
    "\n",
    "- The `getattr(obj, name[, default])` : to access the attribute of object.\n",
    "\n",
    "- The `hasattr(obj,name)` : to check if an attribute exists or not.\n",
    "\n",
    "- The `setattr(obj,name,value)` : to set an attribute. If attribute does not exist, then it would be created.\n",
    "\n",
    "- The `delattr(obj, name)` : to delete an attribute."
   ]
  },
  {
   "cell_type": "markdown",
   "id": "909ec615-be24-4dff-a867-c2291f2bd4df",
   "metadata": {},
   "source": [
    "### Class Attributes vs. Normal Attributes\n",
    "\n",
    "A class attribute is an attribute set at the class-level rather than the instance-level, such that the value of this attribute will be the same across all instances.\n",
    "\n",
    "For our *Client* class, we might want to set the name of the bank, and the location, which would not change from instance to instance."
   ]
  },
  {
   "cell_type": "code",
   "execution_count": null,
   "id": "06252849-df73-4f30-98e3-f837fa717867",
   "metadata": {
    "collapsed": false,
    "jupyter": {
     "outputs_hidden": false
    }
   },
   "outputs": [],
   "source": [
    "Client.bank = \"TD\"\n",
    "Client.location = \"Toronto, ON\""
   ]
  },
  {
   "cell_type": "code",
   "execution_count": null,
   "id": "23acd5b1-50dd-4380-b5af-a138d72392fc",
   "metadata": {
    "collapsed": false,
    "jupyter": {
     "outputs_hidden": false
    }
   },
   "outputs": [],
   "source": [
    "# try calling these attributes at the class and instance level\n",
    "Client.bank\n",
    "Jane_Defoe.bank\n"
   ]
  },
  {
   "cell_type": "markdown",
   "id": "65644612-7107-44ec-91dd-97ad2c444f70",
   "metadata": {},
   "source": [
    "### Methods\n",
    "\n",
    "*Methods* are functions that can be applied (only) to instances of your class. \n",
    "\n",
    "For example, in the case of our 'Client' class, we may want to update a person's bank account once they withdraw or deposit money. Let's create these methods below. \n",
    "\n",
    "Note that each method takes 'self' as an argument along with the arguments required when calling this method."
   ]
  },
  {
   "cell_type": "code",
   "execution_count": null,
   "id": "5e624bf1-f5a2-435e-bc36-aefd898e27da",
   "metadata": {},
   "outputs": [],
   "source": [
    "# Use the Client class code above to now add methods for withdrawal and depositing of money\n",
    "\n",
    "# create the Client class below\n",
    "class Client(object):\n",
    "    def __init__(self, name, balance):\n",
    "        self.name = name\n",
    "        self.balance = balance + 100\n",
    "        \n",
    "        #define account level\n",
    "        if self.balance < 5000:\n",
    "            self.level = \"Basic\"\n",
    "        elif self.balance < 15000:\n",
    "            self.level = \"Intermediate\"\n",
    "        else:\n",
    "            self.level = \"Advanced\"\n",
    "            \n",
    "    def deposit(self, amount):\n",
    "        self.balance += amount\n",
    "        return self.balance\n",
    "    \n",
    "    def withdraw(self, amount):\n",
    "        if amount > self.balance:\n",
    "            raise RuntimeError(\"Insufficient for withdrawal\")\n",
    "        else:\n",
    "            self.balance -= amount\n",
    "        return self.balance"
   ]
  },
  {
   "cell_type": "code",
   "execution_count": null,
   "id": "495c998e-046c-4dbb-b3c8-0d5ffc569072",
   "metadata": {
    "collapsed": false,
    "jupyter": {
     "outputs_hidden": false
    }
   },
   "outputs": [],
   "source": [
    "Jane_Defoe.deposit(150000)"
   ]
  },
  {
   "cell_type": "markdown",
   "id": "f26821dd-cb59-4280-9ebe-f835081c6627",
   "metadata": {},
   "source": [
    "#### What is \"self\"? \n",
    "`*`*not in the philosophical sense*`*`\n",
    "\n",
    "In the method, withdraw(self, amount), the self refers to the *instance* upon which we are applying the instructions of the method. \n",
    "\n",
    "When we call a method, `f(self, arg)`, on the object `x`, we use `x.f(arg)`.\n",
    "- `x` is passed as the first argument, *self*, by default and all that is required are the other arguments that comprise the function. \n",
    "\n",
    "It is equivalent to calling `MyClass.f(x, arg)`.\n",
    "Try it yourself with the Client class and one of the methods we've written."
   ]
  },
  {
   "cell_type": "code",
   "execution_count": null,
   "id": "66beeaab-4990-4040-b535-16311ff0b65e",
   "metadata": {
    "collapsed": false,
    "jupyter": {
     "outputs_hidden": false
    }
   },
   "outputs": [],
   "source": [
    "# Try calling a method two different ways\n",
    "John_Doe.deposit(500)\n",
    "Client.withdraw(Jane_Defoe, 50000)"
   ]
  },
  {
   "cell_type": "markdown",
   "id": "8cc64792-f3b7-4a2e-9444-14295773c44b",
   "metadata": {},
   "source": [
    "### Static Methods \n",
    "\n",
    "Static methods are methods that belong to a class but do not have access to *self* and hence don't require an instance to function (i.e. it will work on the class level as well as the instance level). \n",
    "\n",
    "We denote these with the line `@staticmethod` before we define our static method.\n",
    "\n",
    "Let's create a static method called make_money_sound() that will simply print \"Cha-ching!\" when called."
   ]
  },
  {
   "cell_type": "code",
   "execution_count": null,
   "id": "3f165971-f659-4dfc-bba1-72cb89dde0ba",
   "metadata": {
    "collapsed": false,
    "jupyter": {
     "outputs_hidden": false
    }
   },
   "outputs": [],
   "source": [
    "# Add a static method called make_money_sound()\n",
    "# create the Client class below\n",
    "class Client(object):\n",
    "    def __init__(self, name, balance):\n",
    "        self.name = name\n",
    "        self.balance = balance + 100\n",
    "        \n",
    "        #define account level\n",
    "        if self.balance < 5000:\n",
    "            self.level = \"Basic\"\n",
    "        elif self.balance < 15000:\n",
    "            self.level = \"Intermediate\"\n",
    "        else:\n",
    "            self.level = \"Advanced\"\n",
    "            \n",
    "    @staticmethod\n",
    "    def make_money_sound():\n",
    "        print \"Cha-ching!\"\n",
    "        \n",
    "    \n"
   ]
  },
  {
   "cell_type": "code",
   "execution_count": null,
   "id": "ef5eaabc-dd3e-4d1a-82c9-be6e18f7dc97",
   "metadata": {
    "collapsed": false,
    "jupyter": {
     "outputs_hidden": false
    }
   },
   "outputs": [],
   "source": [
    "Client.make_money_sound()\n"
   ]
  },
  {
   "cell_type": "markdown",
   "id": "10089d99-ca34-467d-897d-c83c6cdf9a2b",
   "metadata": {},
   "source": [
    "### Class Methods\n",
    "\n",
    "A class method is a type of method that will receive the class rather than the instance as the first parameter. It is also identified similarly to a static method, with `@classmethod`.\n",
    "\n",
    "Create a class method called bank_location() that will print both the bank name and location when called upon the class."
   ]
  },
  {
   "cell_type": "code",
   "execution_count": null,
   "id": "40a6ed7b-569e-455f-a960-9369fc1d1879",
   "metadata": {},
   "outputs": [],
   "source": [
    "# Add a class method called bank_location()\n",
    "# create the Client class below\n",
    "class Client(object):\n",
    "    bank = \"TD\"\n",
    "    location = \"Toronto, ON\"\n",
    "    \n",
    "    def __init__(self, name, balance):\n",
    "        self.name = name\n",
    "        self.balance = balance + 100\n",
    "        \n",
    "        #define account level\n",
    "        if self.balance < 5000:\n",
    "            self.level = \"Basic\"\n",
    "        elif self.balance < 15000:\n",
    "            self.level = \"Intermediate\"\n",
    "        else:\n",
    "            self.level = \"Advanced\"\n",
    "            \n",
    "    @classmethod\n",
    "    def bank_location(cls):\n",
    "        return str(cls.bank + \" \" + cls.location)\n",
    "\n"
   ]
  },
  {
   "cell_type": "code",
   "execution_count": null,
   "id": "cd75710f-00d5-4736-83ae-3a1f562f4569",
   "metadata": {
    "collapsed": false,
    "jupyter": {
     "outputs_hidden": false
    }
   },
   "outputs": [],
   "source": [
    "Client.bank_location()"
   ]
  },
  {
   "cell_type": "markdown",
   "id": "a940d229-8432-4e03-8eff-a8c9530ebb40",
   "metadata": {},
   "source": [
    "### Key Concept: Inheritance\n",
    "\n",
    "A 'child' class can be created from a 'parent' class, whereby the child will bring over attributes and methods that its parent has, but where new features can be created as well. \n",
    "\n",
    "This would be useful if you want to create multiple classes that would have some features that are kept the same between them. You would simply create a parent class of these children classes that have those maintained features.\n",
    "\n",
    "Imagine we want to create different types of clients but still have all the base attributes and methods found in client currently. \n",
    "\n",
    "For example, let's create a class called *Savings* that inherits from the *Client* class. In doing so, we do not need to write another `__init__` method as it will inherit this from its parent."
   ]
  },
  {
   "cell_type": "code",
   "execution_count": null,
   "id": "0c65f913-810a-4a17-b62f-00210ef592b2",
   "metadata": {},
   "outputs": [],
   "source": [
    "# create the Savings class below\n",
    "class Savings(Client):\n",
    "    interest_rate = 0.005\n",
    "    \n",
    "    def update_balance(self):\n",
    "        self.balance += self.balance*self.interest_rate\n",
    "        return self.balance\n"
   ]
  },
  {
   "cell_type": "code",
   "execution_count": null,
   "id": "bcb6b92e-3d6d-4156-b66b-c84a3b66b38b",
   "metadata": {},
   "outputs": [],
   "source": [
    "# create an instance the same way as a Client but this time by calling Savings instead\n",
    "Lina_Tran = Savings(\"Lina Tran\", 50)"
   ]
  },
  {
   "cell_type": "code",
   "execution_count": null,
   "id": "3dca9e11-02f3-4df2-a830-81bcaab14455",
   "metadata": {
    "collapsed": false,
    "jupyter": {
     "outputs_hidden": false
    }
   },
   "outputs": [],
   "source": [
    "# it now has access to the new attributes and methods in Savings...\n",
    "print Lina_Tran.name\n",
    "print Lina_Tran.balance\n",
    "print Lina_Tran.interest_rate"
   ]
  },
  {
   "cell_type": "code",
   "execution_count": null,
   "id": "ce544bf0-d114-4c14-af8e-9825c14bd7ac",
   "metadata": {
    "collapsed": false,
    "jupyter": {
     "outputs_hidden": false
    }
   },
   "outputs": [],
   "source": [
    "# ...as well as access to attributes and methods from the Client class as well\n",
    "Lina_Tran.update_balance()"
   ]
  },
  {
   "cell_type": "code",
   "execution_count": null,
   "id": "e96e00c1-189a-49fe-b31b-236465cef0d9",
   "metadata": {
    "collapsed": false,
    "jupyter": {
     "outputs_hidden": false
    }
   },
   "outputs": [],
   "source": [
    "#defining a method outside the class definition\n",
    "def check_balance(self):\n",
    "    return self.balance\n",
    "\n",
    "Client.check_balance = check_balance"
   ]
  },
  {
   "cell_type": "code",
   "execution_count": null,
   "id": "8c8514a2-e939-466e-81db-394e725f3a70",
   "metadata": {
    "collapsed": false,
    "jupyter": {
     "outputs_hidden": false
    }
   },
   "outputs": [],
   "source": [
    "John_Doe.check_balance()"
   ]
  },
  {
   "cell_type": "code",
   "execution_count": null,
   "id": "8cacd79d-e9ba-4757-826f-6b3db1c2e19c",
   "metadata": {},
   "outputs": [],
   "source": []
  },
  {
   "cell_type": "markdown",
   "id": "0066cb60-62cd-4e78-955f-490a5c3654fb",
   "metadata": {},
   "source": [
    "## Classes: Creating your own objects"
   ]
  },
  {
   "cell_type": "code",
   "execution_count": null,
   "id": "a900b852-1ec4-4707-ab30-232a4a3e1a5c",
   "metadata": {},
   "outputs": [],
   "source": [
    "# Define a new class called `Thing` that is derived from the base Python object\n",
    "class Thing(object):\n",
    "    my_property = 'I am a \"Thing\"'\n",
    "\n",
    "\n",
    "# Define a new class called `DictThing` that is derived from the `dict` type\n",
    "class DictThing(dict):\n",
    "    my_property = 'I am a \"DictThing\"'"
   ]
  },
  {
   "cell_type": "code",
   "execution_count": null,
   "id": "c87fa598-1b0f-4858-b068-2f331745dda0",
   "metadata": {},
   "outputs": [],
   "source": [
    "print(Thing)\n",
    "print(type(Thing))\n",
    "print(DictThing)\n",
    "print(type(DictThing))\n",
    "print(issubclass(DictThing, dict))\n",
    "print(issubclass(DictThing, object))"
   ]
  },
  {
   "cell_type": "code",
   "execution_count": null,
   "id": "efce50fe-766f-455c-9015-70bea9a13211",
   "metadata": {},
   "outputs": [],
   "source": [
    "# Create \"instances\" of our new classes\n",
    "t = Thing()\n",
    "d = DictThing()\n",
    "print(t)\n",
    "print(type(t))\n",
    "print(d)\n",
    "print(type(d))"
   ]
  },
  {
   "cell_type": "code",
   "execution_count": null,
   "id": "9f8c34bd-3a06-4918-add0-67bbf25446a6",
   "metadata": {},
   "outputs": [],
   "source": [
    "# Interact with a DictThing instance just as you would a normal dictionary\n",
    "d['name'] = 'Sally'\n",
    "print(d)"
   ]
  },
  {
   "cell_type": "code",
   "execution_count": null,
   "id": "ffc87b70-d2fe-419f-8f8a-990a18314204",
   "metadata": {},
   "outputs": [],
   "source": [
    "d.update({\n",
    "        'age': 13,\n",
    "        'fav_foods': ['pizza', 'sushi', 'pad thai', 'waffles'],\n",
    "        'fav_color': 'green',\n",
    "    })\n",
    "print(d)"
   ]
  },
  {
   "cell_type": "code",
   "execution_count": null,
   "id": "3aff3a7e-2023-4cdb-ae13-7f663139feb5",
   "metadata": {},
   "outputs": [],
   "source": [
    "print(d.my_property)"
   ]
  },
  {
   "cell_type": "markdown",
   "id": "8e320cc1-f67c-48ae-8874-ffa4e3e3ea97",
   "metadata": {},
   "source": [
    "## Homework"
   ]
  },
  {
   "cell_type": "markdown",
   "id": "01a5dfde-6b59-473f-bfdb-2f3fb1c1b47f",
   "metadata": {},
   "source": [
    "1. Write a Python class named Rectangle constructed by a length and width and a method which will compute the area of a rectangle.\n",
    "2. Write a child class Square with same overwrited funtionality"
   ]
  },
  {
   "cell_type": "code",
   "execution_count": null,
   "id": "a4de2075-d32d-4156-9f77-d1383cde80bf",
   "metadata": {},
   "outputs": [],
   "source": []
  }
 ],
 "metadata": {
  "kernelspec": {
   "display_name": "Python 3 (ipykernel)",
   "language": "python",
   "name": "python3"
  },
  "language_info": {
   "codemirror_mode": {
    "name": "ipython",
    "version": 3
   },
   "file_extension": ".py",
   "mimetype": "text/x-python",
   "name": "python",
   "nbconvert_exporter": "python",
   "pygments_lexer": "ipython3",
   "version": "3.9.7"
  }
 },
 "nbformat": 4,
 "nbformat_minor": 5
}
